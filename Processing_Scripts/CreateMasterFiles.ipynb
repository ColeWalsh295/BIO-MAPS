{
 "cells": [
  {
   "cell_type": "code",
   "execution_count": 1,
   "metadata": {},
   "outputs": [
    {
     "name": "stderr",
     "output_type": "stream",
     "text": [
      "In C:\\Anaconda3\\lib\\site-packages\\matplotlib\\mpl-data\\stylelib\\_classic_test.mplstyle: \n",
      "The savefig.frameon rcparam was deprecated in Matplotlib 3.1 and will be removed in 3.3.\n",
      "In C:\\Anaconda3\\lib\\site-packages\\matplotlib\\mpl-data\\stylelib\\_classic_test.mplstyle: \n",
      "The verbose.level rcparam was deprecated in Matplotlib 3.1 and will be removed in 3.3.\n",
      "In C:\\Anaconda3\\lib\\site-packages\\matplotlib\\mpl-data\\stylelib\\_classic_test.mplstyle: \n",
      "The verbose.fileo rcparam was deprecated in Matplotlib 3.1 and will be removed in 3.3.\n"
     ]
    }
   ],
   "source": [
    "import pandas as pd\n",
    "import os\n",
    "import BioMAPS_BuildMaster"
   ]
  },
  {
   "cell_type": "markdown",
   "metadata": {},
   "source": [
    "# Set up global variables"
   ]
  },
  {
   "cell_type": "code",
   "execution_count": 2,
   "metadata": {},
   "outputs": [],
   "source": [
    "global apiToken, DataCenter, adminID\n",
    "apiToken = pd.read_csv('../Automation-Files/Admin_Info.csv', index_col = False, header = 0).T[0]['API']\n",
    "adminID = pd.read_csv('../Automation-Files/Admin_Info.csv', index_col = False, header = 0).T[0]['adminID']\n",
    "DataCenter = 'cornell'\n",
    "baseURL = \"https://{0}.qualtrics.com/API/v3/responseexports/\".format(DataCenter)\n",
    "\n",
    "MainDirectory = 'C:/Users/Cole/Documents/DATA/BIOMAPS_DATA'\n",
    "os.chdir(MainDirectory)\n",
    "\n",
    "Masterdf = pd.read_csv('MasterCourseData_BIOMAPS.csv', skiprows = 2)"
   ]
  },
  {
   "cell_type": "markdown",
   "metadata": {},
   "source": [
    "# Download Bio-MAPS data"
   ]
  },
  {
   "cell_type": "code",
   "execution_count": 3,
   "metadata": {},
   "outputs": [
    {
     "name": "stdout",
     "output_type": "stream",
     "text": [
      "Phys-MAPS2020_Brighton_and_Sussex_Medical_School_University_of_Sussex_UK_Module_103_Witchel\n"
     ]
    },
    {
     "data": {
      "text/plain": [
       "0"
      ]
     },
     "execution_count": 3,
     "metadata": {},
     "output_type": "execute_result"
    }
   ],
   "source": [
    "BioMAPS_BuildMaster.GetAllData(Masterdf, 'Capstone', mainDirectory = MainDirectory, startDate = '05/31/2020', endDate = '01/01/2021')\n",
    "BioMAPS_BuildMaster.GetAllData(Masterdf, 'EcoEvo', mainDirectory = MainDirectory, startDate = '05/31/2020', endDate = '01/01/2021')\n",
    "BioMAPS_BuildMaster.GetAllData(Masterdf, 'GenBio', mainDirectory = MainDirectory, startDate = '05/31/2020', endDate = '01/01/2021')\n",
    "BioMAPS_BuildMaster.GetAllData(Masterdf, 'Phys', mainDirectory = MainDirectory, startDate = '05/31/2020', endDate = '01/01/2021')"
   ]
  },
  {
   "cell_type": "code",
   "execution_count": 4,
   "metadata": {},
   "outputs": [
    {
     "name": "stderr",
     "output_type": "stream",
     "text": [
      "C:\\Users\\Cole\\Documents\\GitHub\\BIO-MAPS\\Processing_Scripts\\BioMAPS_BuildMaster.py:257: FutureWarning: Sorting because non-concatenation axis is not aligned. A future version\n",
      "of pandas will change to not sort by default.\n",
      "\n",
      "To accept the future behavior, pass 'sort=False'.\n",
      "\n",
      "To retain the current behavior and silence the warning, pass 'sort=True'.\n",
      "\n",
      "  df = pd.concat(dfs).reset_index(drop = True)\n",
      "C:\\Users\\Cole\\Documents\\GitHub\\BIO-MAPS\\Processing_Scripts\\BioMAPS_BuildMaster.py:276: FutureWarning: Sorting because non-concatenation axis is not aligned. A future version\n",
      "of pandas will change to not sort by default.\n",
      "\n",
      "To accept the future behavior, pass 'sort=False'.\n",
      "\n",
      "To retain the current behavior and silence the warning, pass 'sort=True'.\n",
      "\n",
      "  df_out = pd.concat([df_out, pd.DataFrame({'Class_ID': [Admin_ID], 'EndDate': ['03/04/2020']})], join = 'outer').reset_index(drop = True)\n",
      "C:\\Users\\Cole\\Documents\\GitHub\\BIO-MAPS\\Processing_Scripts\\BioMAPS_BuildMaster.py:257: FutureWarning: Sorting because non-concatenation axis is not aligned. A future version\n",
      "of pandas will change to not sort by default.\n",
      "\n",
      "To accept the future behavior, pass 'sort=False'.\n",
      "\n",
      "To retain the current behavior and silence the warning, pass 'sort=True'.\n",
      "\n",
      "  df = pd.concat(dfs).reset_index(drop = True)\n",
      "C:\\Users\\Cole\\Documents\\GitHub\\BIO-MAPS\\Processing_Scripts\\BioMAPS_BuildMaster.py:276: FutureWarning: Sorting because non-concatenation axis is not aligned. A future version\n",
      "of pandas will change to not sort by default.\n",
      "\n",
      "To accept the future behavior, pass 'sort=False'.\n",
      "\n",
      "To retain the current behavior and silence the warning, pass 'sort=True'.\n",
      "\n",
      "  df_out = pd.concat([df_out, pd.DataFrame({'Class_ID': [Admin_ID], 'EndDate': ['03/04/2020']})], join = 'outer').reset_index(drop = True)\n",
      "C:\\Users\\Cole\\Documents\\GitHub\\BIO-MAPS\\Processing_Scripts\\BioMAPS_BuildMaster.py:257: FutureWarning: Sorting because non-concatenation axis is not aligned. A future version\n",
      "of pandas will change to not sort by default.\n",
      "\n",
      "To accept the future behavior, pass 'sort=False'.\n",
      "\n",
      "To retain the current behavior and silence the warning, pass 'sort=True'.\n",
      "\n",
      "  df = pd.concat(dfs).reset_index(drop = True)\n",
      "C:\\Users\\Cole\\Documents\\GitHub\\BIO-MAPS\\Processing_Scripts\\BioMAPS_BuildMaster.py:276: FutureWarning: Sorting because non-concatenation axis is not aligned. A future version\n",
      "of pandas will change to not sort by default.\n",
      "\n",
      "To accept the future behavior, pass 'sort=False'.\n",
      "\n",
      "To retain the current behavior and silence the warning, pass 'sort=True'.\n",
      "\n",
      "  df_out = pd.concat([df_out, pd.DataFrame({'Class_ID': [Admin_ID], 'EndDate': ['03/04/2020']})], join = 'outer').reset_index(drop = True)\n",
      "C:\\Users\\Cole\\Documents\\GitHub\\BIO-MAPS\\Processing_Scripts\\BioMAPS_BuildMaster.py:257: FutureWarning: Sorting because non-concatenation axis is not aligned. A future version\n",
      "of pandas will change to not sort by default.\n",
      "\n",
      "To accept the future behavior, pass 'sort=False'.\n",
      "\n",
      "To retain the current behavior and silence the warning, pass 'sort=True'.\n",
      "\n",
      "  df = pd.concat(dfs).reset_index(drop = True)\n",
      "C:\\Users\\Cole\\Documents\\GitHub\\BIO-MAPS\\Processing_Scripts\\BioMAPS_BuildMaster.py:276: FutureWarning: Sorting because non-concatenation axis is not aligned. A future version\n",
      "of pandas will change to not sort by default.\n",
      "\n",
      "To accept the future behavior, pass 'sort=False'.\n",
      "\n",
      "To retain the current behavior and silence the warning, pass 'sort=True'.\n",
      "\n",
      "  df_out = pd.concat([df_out, pd.DataFrame({'Class_ID': [Admin_ID], 'EndDate': ['03/04/2020']})], join = 'outer').reset_index(drop = True)\n"
     ]
    },
    {
     "data": {
      "text/plain": [
       "<Figure size 432x288 with 0 Axes>"
      ]
     },
     "metadata": {},
     "output_type": "display_data"
    }
   ],
   "source": [
    "EndDate = '01/01/2021'\n",
    "df_Cap = BioMAPS_BuildMaster.BuildMasterFile('Capstone', MainDirectory, EndDate, adminID)\n",
    "df_EcoEvo = BioMAPS_BuildMaster.BuildMasterFile('EcoEvo', MainDirectory, EndDate, adminID)\n",
    "df_GenBio = BioMAPS_BuildMaster.BuildMasterFile('GenBio', MainDirectory, EndDate, adminID)\n",
    "df_Phys = BioMAPS_BuildMaster.BuildMasterFile('Phys', MainDirectory, EndDate, adminID)"
   ]
  },
  {
   "cell_type": "code",
   "execution_count": 5,
   "metadata": {},
   "outputs": [
    {
     "name": "stdout",
     "output_type": "stream",
     "text": [
      "Students: 16572\n",
      "Classes: 283\n",
      "Schools: 114\n"
     ]
    }
   ],
   "source": [
    "df = pd.concat([df_Cap['Class_ID'], df_EcoEvo['Class_ID'], df_GenBio['Class_ID'], df_Phys['Class_ID']]).reset_index(drop = True)\n",
    "print('Students: {}'.format(len(df)))\n",
    "df = df.to_frame().drop_duplicates().merge(Masterdf, left_on = 'Class_ID', right_on = 'ID', how = 'left')[['Class_ID', 'School Name']]\n",
    "print('Classes: {}'.format(len(df)))\n",
    "print('Schools: {}'.format(len(df['School Name'].unique())))"
   ]
  }
 ],
 "metadata": {
  "kernelspec": {
   "display_name": "Python 3",
   "language": "python",
   "name": "python3"
  },
  "language_info": {
   "codemirror_mode": {
    "name": "ipython",
    "version": 3
   },
   "file_extension": ".py",
   "mimetype": "text/x-python",
   "name": "python",
   "nbconvert_exporter": "python",
   "pygments_lexer": "ipython3",
   "version": "3.6.10"
  }
 },
 "nbformat": 4,
 "nbformat_minor": 2
}
