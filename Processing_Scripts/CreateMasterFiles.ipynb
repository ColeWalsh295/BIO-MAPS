{
 "cells": [
  {
   "cell_type": "code",
   "execution_count": 1,
   "metadata": {},
   "outputs": [],
   "source": [
    "import pandas as pd\n",
    "import os\n",
    "import BioMAPS_BuildMaster"
   ]
  },
  {
   "cell_type": "markdown",
   "metadata": {},
   "source": [
    "# Set up global variables"
   ]
  },
  {
   "cell_type": "code",
   "execution_count": 16,
   "metadata": {},
   "outputs": [],
   "source": [
    "global apiToken, DataCenter\n",
    "apiToken = pd.read_csv('../Automation-Files/Admin_Info.csv', index_col = False, header = 0).T[0]['API']\n",
    "DataCenter = 'cornell'\n",
    "baseURL = \"https://{0}.qualtrics.com/API/v3/responseexports/\".format(DataCenter)\n",
    "\n",
    "MainDirectory = 'C:/Users/Cole/Documents/DATA/BIOMAPS_DATA'\n",
    "os.chdir(MainDirectory)\n",
    "\n",
    "Masterdf = pd.read_csv('MasterCourseData_BIOMAPS.csv', skiprows = 2)"
   ]
  },
  {
   "cell_type": "markdown",
   "metadata": {},
   "source": [
    "# Download Bio-MAPS data"
   ]
  },
  {
   "cell_type": "code",
   "execution_count": 3,
   "metadata": {},
   "outputs": [
    {
     "name": "stdout",
     "output_type": "stream",
     "text": [
      "Phys-MAPS2019_Rochester_Institute_of_Technology_Biology_112_Widmaier\n",
      "Phys-MAPS2020_Brighton_and_Sussex_Medical_School_University_of_Sussex_UK_Module_103_Witchel\n",
      "Phys-MAPS2020_Seattle_Pacific_University_4899_Pratt\n"
     ]
    },
    {
     "data": {
      "text/plain": [
       "0"
      ]
     },
     "execution_count": 3,
     "metadata": {},
     "output_type": "execute_result"
    }
   ],
   "source": [
    "BioMAPS_BuildMaster.GetAllData(Masterdf, 'Capstone', mainDirectory = MainDirectory, endDate = '09/01/2020')\n",
    "BioMAPS_BuildMaster.GetAllData(Masterdf, 'EcoEvo', mainDirectory = MainDirectory, endDate = '09/01/2020')\n",
    "BioMAPS_BuildMaster.GetAllData(Masterdf, 'GenBio', mainDirectory = MainDirectory, endDate = '09/01/2020')\n",
    "BioMAPS_BuildMaster.GetAllData(Masterdf, 'Phys', mainDirectory = MainDirectory, endDate = '09/01/2020')"
   ]
  },
  {
   "cell_type": "code",
   "execution_count": 3,
   "metadata": {},
   "outputs": [
    {
     "name": "stderr",
     "output_type": "stream",
     "text": [
      "C:\\Users\\Cole\\Documents\\GitHub\\BIO-MAPS\\Processing_Scripts\\BioMAPS_BuildMaster.py:257: FutureWarning: Sorting because non-concatenation axis is not aligned. A future version\n",
      "of pandas will change to not sort by default.\n",
      "\n",
      "To accept the future behavior, pass 'sort=False'.\n",
      "\n",
      "To retain the current behavior and silence the warning, pass 'sort=True'.\n",
      "\n",
      "  df = pd.concat(dfs).reset_index(drop = True)\n"
     ]
    },
    {
     "data": {
      "text/plain": [
       "<Figure size 432x288 with 0 Axes>"
      ]
     },
     "metadata": {},
     "output_type": "display_data"
    }
   ],
   "source": [
    "EndDate = '09/01/2020'\n",
    "df_Cap = BioMAPS_BuildMaster.BuildMasterFile('Capstone', MainDirectory, EndDate)\n",
    "df_EcoEvo = BioMAPS_BuildMaster.BuildMasterFile('EcoEvo', MainDirectory, EndDate)\n",
    "df_GenBio = BioMAPS_BuildMaster.BuildMasterFile('GenBio', MainDirectory, EndDate)\n",
    "df_Phys = BioMAPS_BuildMaster.BuildMasterFile('Phys', MainDirectory, EndDate)"
   ]
  },
  {
   "cell_type": "code",
   "execution_count": 26,
   "metadata": {},
   "outputs": [
    {
     "name": "stdout",
     "output_type": "stream",
     "text": [
      "Students: 14785\n",
      "Classes: 267\n",
      "Schools: 111\n"
     ]
    }
   ],
   "source": [
    "df = pd.concat([df_Cap['Class_ID'], df_EcoEvo['Class_ID'], df_GenBio['Class_ID'], df_Phys['Class_ID']]).reset_index(drop = True)\n",
    "print('Students: {}'.format(len(df)))\n",
    "df = df.to_frame().drop_duplicates().merge(Masterdf, left_on = 'Class_ID', right_on = 'ID', how = 'left')[['Class_ID', 'School Name']]\n",
    "print('Classes: {}'.format(len(df)))\n",
    "print('Schools: {}'.format(len(df['School Name'].unique())))"
   ]
  }
 ],
 "metadata": {
  "kernelspec": {
   "display_name": "Python 3",
   "language": "python",
   "name": "python3"
  },
  "language_info": {
   "codemirror_mode": {
    "name": "ipython",
    "version": 3
   },
   "file_extension": ".py",
   "mimetype": "text/x-python",
   "name": "python",
   "nbconvert_exporter": "python",
   "pygments_lexer": "ipython3",
   "version": "3.6.10"
  }
 },
 "nbformat": 4,
 "nbformat_minor": 2
}
